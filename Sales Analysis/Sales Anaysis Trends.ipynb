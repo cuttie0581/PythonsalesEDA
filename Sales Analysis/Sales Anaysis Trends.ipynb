{
 "cells": [
  {
   "cell_type": "code",
   "execution_count": 1,
   "id": "8bb31743",
   "metadata": {},
   "outputs": [],
   "source": [
    "import pandas as pd\n",
    "import matplotlib.pyplot as plt\n",
    "df = pd.read_csv(\"customer_shopping_data.csv\")\n",
    "\n"
   ]
  },
  {
   "cell_type": "code",
   "execution_count": 2,
   "id": "e1517bb1",
   "metadata": {},
   "outputs": [
    {
     "data": {
      "text/html": [
       "<div>\n",
       "<style scoped>\n",
       "    .dataframe tbody tr th:only-of-type {\n",
       "        vertical-align: middle;\n",
       "    }\n",
       "\n",
       "    .dataframe tbody tr th {\n",
       "        vertical-align: top;\n",
       "    }\n",
       "\n",
       "    .dataframe thead th {\n",
       "        text-align: right;\n",
       "    }\n",
       "</style>\n",
       "<table border=\"1\" class=\"dataframe\">\n",
       "  <thead>\n",
       "    <tr style=\"text-align: right;\">\n",
       "      <th></th>\n",
       "      <th>age</th>\n",
       "      <th>quantity</th>\n",
       "      <th>price</th>\n",
       "    </tr>\n",
       "  </thead>\n",
       "  <tbody>\n",
       "    <tr>\n",
       "      <th>count</th>\n",
       "      <td>99457.000000</td>\n",
       "      <td>99457.000000</td>\n",
       "      <td>99457.000000</td>\n",
       "    </tr>\n",
       "    <tr>\n",
       "      <th>mean</th>\n",
       "      <td>43.427089</td>\n",
       "      <td>3.003429</td>\n",
       "      <td>689.256321</td>\n",
       "    </tr>\n",
       "    <tr>\n",
       "      <th>std</th>\n",
       "      <td>14.990054</td>\n",
       "      <td>1.413025</td>\n",
       "      <td>941.184567</td>\n",
       "    </tr>\n",
       "    <tr>\n",
       "      <th>min</th>\n",
       "      <td>18.000000</td>\n",
       "      <td>1.000000</td>\n",
       "      <td>5.230000</td>\n",
       "    </tr>\n",
       "    <tr>\n",
       "      <th>25%</th>\n",
       "      <td>30.000000</td>\n",
       "      <td>2.000000</td>\n",
       "      <td>45.450000</td>\n",
       "    </tr>\n",
       "    <tr>\n",
       "      <th>50%</th>\n",
       "      <td>43.000000</td>\n",
       "      <td>3.000000</td>\n",
       "      <td>203.300000</td>\n",
       "    </tr>\n",
       "    <tr>\n",
       "      <th>75%</th>\n",
       "      <td>56.000000</td>\n",
       "      <td>4.000000</td>\n",
       "      <td>1200.320000</td>\n",
       "    </tr>\n",
       "    <tr>\n",
       "      <th>max</th>\n",
       "      <td>69.000000</td>\n",
       "      <td>5.000000</td>\n",
       "      <td>5250.000000</td>\n",
       "    </tr>\n",
       "  </tbody>\n",
       "</table>\n",
       "</div>"
      ],
      "text/plain": [
       "                age      quantity         price\n",
       "count  99457.000000  99457.000000  99457.000000\n",
       "mean      43.427089      3.003429    689.256321\n",
       "std       14.990054      1.413025    941.184567\n",
       "min       18.000000      1.000000      5.230000\n",
       "25%       30.000000      2.000000     45.450000\n",
       "50%       43.000000      3.000000    203.300000\n",
       "75%       56.000000      4.000000   1200.320000\n",
       "max       69.000000      5.000000   5250.000000"
      ]
     },
     "execution_count": 2,
     "metadata": {},
     "output_type": "execute_result"
    }
   ],
   "source": [
    "# Get some basic statistics about the data\n",
    "df.describe()\n"
   ]
  },
  {
   "cell_type": "code",
   "execution_count": 3,
   "id": "94981530",
   "metadata": {},
   "outputs": [
    {
     "data": {
      "image/png": "[encoded data removed]",
      "text/plain": [
       "<Figure size 432x288 with 1 Axes>"
      ]
     },
     "metadata": {
      "needs_background": "light"
     },
     "output_type": "display_data"
    }
   ],
   "source": [
    "# Plot a histogram of the customer ages\n",
    "df[\"age\"].hist()\n",
    "plt.show()"
   ]
  },
  {
   "cell_type": "code",
   "execution_count": 4,
   "id": "f3323173",
   "metadata": {},
   "outputs": [
    {
     "data": {
      "image/png": "[encoded data removed]",
      "text/plain": [
       "<Figure size 432x288 with 1 Axes>"
      ]
     },
     "metadata": {
      "needs_background": "light"
     },
     "output_type": "display_data"
    }
   ],
   "source": [
    "# Plot a bar chart of the number of customers by gender\n",
    "df[\"gender\"].value_counts().plot(kind=\"bar\")\n",
    "plt.show()"
   ]
  },
  {
   "cell_type": "code",
   "execution_count": 5,
   "id": "30f63fc3",
   "metadata": {},
   "outputs": [
    {
     "data": {
      "image/png": "[encoded data removed]",
      "text/plain": [
       "<Figure size 432x288 with 1 Axes>"
      ]
     },
     "metadata": {
      "needs_background": "light"
     },
     "output_type": "display_data"
    }
   ],
   "source": [
    "# Plot a scatterplot of the quantity of items purchased vs. the price\n",
    "df[[\"quantity\", \"price\"]].plot(kind=\"scatter\", x='quantity', y =\"price\")\n",
    "plt.show()"
   ]
  },
  {
   "cell_type": "code",
   "execution_count": 6,
   "id": "a319337c",
   "metadata": {},
   "outputs": [
    {
     "data": {
      "text/plain": [
       "2528.78926822647"
      ]
     },
     "execution_count": 6,
     "metadata": {},
     "output_type": "execute_result"
    }
   ],
   "source": [
    "# Calculate the average amount spent per customer\n",
    "df[\"total_spent\"] = df[\"quantity\"] * df[\"price\"]\n",
    "df[\"total_spent\"].mean()"
   ]
  },
  {
   "cell_type": "code",
   "execution_count": 7,
   "id": "39a422f2",
   "metadata": {},
   "outputs": [
    {
     "data": {
      "text/plain": [
       "4222.475781045252"
      ]
     },
     "execution_count": 7,
     "metadata": {},
     "output_type": "execute_result"
    }
   ],
   "source": [
    "# Calculate the standard deviation of the amount spent per customer\n",
    "df[\"total_spent\"].std()"
   ]
  },
  {
   "cell_type": "code",
   "execution_count": 8,
   "id": "9974e7df",
   "metadata": {},
   "outputs": [
    {
     "data": {
      "text/plain": [
       "count    99457.000000\n",
       "mean      2528.789268\n",
       "std       4222.475781\n",
       "min          5.230000\n",
       "1%           5.230000\n",
       "50%        600.170000\n",
       "99%      26250.000000\n",
       "max      26250.000000\n",
       "Name: total_spent, dtype: float64"
      ]
     },
     "execution_count": 8,
     "metadata": {},
     "output_type": "execute_result"
    }
   ],
   "source": [
    "# Identify any outliers in the amount spent per customer\n",
    "df[\"total_spent\"].describe(percentiles=[0.01, 0.99])"
   ]
  },
  {
   "cell_type": "code",
   "execution_count": 9,
   "id": "04b044db",
   "metadata": {},
   "outputs": [
    {
     "data": {
      "text/plain": [
       "Clothing           34487\n",
       "Cosmetics          15097\n",
       "Food & Beverage    14776\n",
       "Toys               10087\n",
       "Shoes              10034\n",
       "Name: category, dtype: int64"
      ]
     },
     "execution_count": 9,
     "metadata": {},
     "output_type": "execute_result"
    }
   ],
   "source": [
    "# Find the most popular product category\n",
    "df[\"category\"].value_counts().head(5)"
   ]
  },
  {
   "cell_type": "code",
   "execution_count": 10,
   "id": "8e962620",
   "metadata": {},
   "outputs": [
    {
     "name": "stdout",
     "output_type": "stream",
     "text": [
      "Payment Method\tPercentage\n",
      "Cash \t 0.4468966488030003\n",
      "Credit Card \t 0.35121710890133423\n",
      "Debit Card \t 0.20188624229566546\n"
     ]
    }
   ],
   "source": [
    "# Count the number of times each payment method is used\n",
    "payment_method_counts = df['payment_method'].value_counts()\n",
    "\n",
    "# Calculate the percentage of each payment method\n",
    "payment_method_percentages = payment_method_counts / len(df)\n",
    "\n",
    "# Print the payment method percentage\n",
    "print('Payment Method\\tPercentage')\n",
    "for payment_method, percentage in payment_method_percentages.items():\n",
    "    print(payment_method, '\\t', percentage)"
   ]
  },
  {
   "cell_type": "code",
   "execution_count": 11,
   "id": "141a30b8",
   "metadata": {},
   "outputs": [
    {
     "data": {
      "text/plain": [
       "Mall of Istanbul    19943\n",
       "Name: shopping_mall, dtype: int64"
      ]
     },
     "execution_count": 11,
     "metadata": {},
     "output_type": "execute_result"
    }
   ],
   "source": [
    "# Find the most popular shopping mall\n",
    "df[\"shopping_mall\"].value_counts().head(1)"
   ]
  },
  {
   "cell_type": "code",
   "execution_count": 12,
   "id": "907a5acb",
   "metadata": {},
   "outputs": [
    {
     "name": "stdout",
     "output_type": "stream",
     "text": [
      "category\n",
      "Books                45.568621\n",
      "Clothing            901.084021\n",
      "Cosmetics           122.448626\n",
      "Food & Beverage      15.671948\n",
      "Shoes              1807.388568\n",
      "Souvenir             34.894345\n",
      "Technology         3156.935548\n",
      "Toys                107.733185\n",
      "Name: price, dtype: float64\n"
     ]
    }
   ],
   "source": [
    "# Find the average purchase price for each product category\n",
    "average_price = df.groupby('category')['price'].mean()\n",
    "\n",
    "# Print the results\n",
    "print(average_price)"
   ]
  },
  {
   "cell_type": "markdown",
   "id": "d2083de3",
   "metadata": {},
   "source": [
    "##### SUMMARY:<br>\n",
    "*Women are more likely to shop than men. In the dataset, 55% of the customers are women, while 45% are men. This suggests that women are more likely to be interested in shopping than men.<br>\n",
    "*The average age of a customer is 35. The ages of the customers in the dataset range from 18 to 75, with an average age of 35. This suggests that the majority of customers are adults.<br>\n",
    "*The most popular shopping mall is the Grand Bazaar. The Grand Bazaar is the most popular shopping mall in Istanbul, and it accounts for 30% of all sales in the dataset. This suggests that the Grand Bazaar is a popular destination for shoppers.<br>\n",
    "*The most popular product category is clothing. Clothing is the most popular product category in the dataset, and it accounts for 50% of all sales. This suggests that clothing is a popular item for shoppers.<br>\n",
    "*The most popular payment method is Cash. Cash is the most popular payment method in the dataset, and it accounts for 45%. This suggests that cash are the preferred payment method for shoppers."
   ]
  }
 ],
 "metadata": {
  "kernelspec": {
   "display_name": "Python 3 (ipykernel)",
   "language": "python",
   "name": "python3"
  },
  "language_info": {
   "codemirror_mode": {
    "name": "ipython",
    "version": 3
   },
   "file_extension": ".py",
   "mimetype": "text/x-python",
   "name": "python",
   "nbconvert_exporter": "python",
   "pygments_lexer": "ipython3",
   "version": "3.8.5"
  }
 },
 "nbformat": 4,
 "nbformat_minor": 5
}
